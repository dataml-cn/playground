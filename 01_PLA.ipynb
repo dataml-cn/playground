{
 "cells": [
  {
   "cell_type": "markdown",
   "metadata": {},
   "source": [
    "<br>\n",
    "<font size='12px'>\n",
    "Perceptron Learning Algorithm\n",
    "</font>\n",
    "<br>\n",
    "\n",
    "[©2020 AI在弦上](https://www.dataml.cn)"
   ]
  },
  {
   "cell_type": "markdown",
   "metadata": {},
   "source": [
    "# 概要"
   ]
  },
  {
   "cell_type": "markdown",
   "metadata": {},
   "source": [
    "## PLA 核心思想"
   ]
  },
  {
   "cell_type": "markdown",
   "metadata": {},
   "source": [
    "**假设空间**\n",
    "\n",
    "$H(x) = sign(w \\cdot x), w \\in R_{n+1} $\n",
    "\n",
    "**几何含义**\n",
    "\n",
    "目标函数, 对应于$n$维空间上, 可以将正负样本分开的超平面\n",
    "\n",
    "\n",
    "**知错能改, 善莫大焉**\n",
    "\n",
    "1. 知错, 检测误分类点  \n",
    "  $y_i (w_{k} \\cdot x_i) < 0$  \n",
    "  st. $h(x) = sign(w \\cdot x)$  \n",
    "  \n",
    "2. 能改, 根据当前误分类点修正权重向量   \n",
    "  $w_{k+1} = w_{k} + y_i x_i$\n",
    "  \n",
    "  $\n",
    "   y_i (w_{k} \\cdot x_i) = \\left\\{\n",
    "    \\begin{aligned}\n",
    "      & w_{k}\\cdot x_i < 0, & y_i > 0, \\\\\n",
    "      & w_{k}\\cdot x_i > 0, & y_i < 0\n",
    "    \\end{aligned}\n",
    "  \\right.\n",
    "  $\n",
    "  - $y_i > 0$ 时, $w \\cdot x_i < 0$, 对应两者夹角 $\\cos \\theta < 0$, 夹角过大  \n",
    "    调整的策略权重向量偏向$x_i$, $w_{k+1} = w_{k} + x_i$  \n",
    "    \n",
    "  - $y_i < 0$ 时, $w \\cdot x_i > 0$, 对应两者夹角 $\\cos \\theta > 0$, 夹角过小    \n",
    "    调整的策略权重向量远离$x_i$, $w_{k+1} = w_{k} - x_i$\n"
   ]
  },
  {
   "cell_type": "markdown",
   "metadata": {},
   "source": [
    "# 符号说明"
   ]
  },
  {
   "cell_type": "markdown",
   "metadata": {},
   "source": [
    "输入特征向量为$n$维, 这里将截距合入特征向量中\n",
    "\n",
    "- 特征向量, $x = [1, x^{(1)}, x^{(2)}, \\ldots, x^{(n)}]$\n",
    "- 权重向量, $w = [w^{(0)}, w^{(1)}, w^{(2)}, \\ldots, w^{(n)}]$"
   ]
  },
  {
   "cell_type": "markdown",
   "metadata": {},
   "source": [
    "# 环境"
   ]
  },
  {
   "cell_type": "code",
   "execution_count": 1,
   "metadata": {},
   "outputs": [],
   "source": [
    "import numpy as np"
   ]
  },
  {
   "cell_type": "code",
   "execution_count": 2,
   "metadata": {},
   "outputs": [],
   "source": [
    "%load_ext ipython_unittest\n",
    "import unittest"
   ]
  },
  {
   "cell_type": "markdown",
   "metadata": {},
   "source": [
    "# 原始形式"
   ]
  },
  {
   "cell_type": "markdown",
   "metadata": {},
   "source": [
    "## 实现"
   ]
  },
  {
   "cell_type": "code",
   "execution_count": 3,
   "metadata": {},
   "outputs": [],
   "source": [
    "class Pla:\n",
    "    \n",
    "    def __init__(self, X, y, \n",
    "                 weight=None,\n",
    "                 max_iterates=1000,\n",
    "                 learning_rate=1,\n",
    "                 method='random',\n",
    "                 recycle=False,\n",
    "                 debug=False):\n",
    "        \"\"\"\n",
    "        PLA 初始化\n",
    "        \n",
    "        Params\n",
    "        -------\n",
    "        \n",
    "        X: array, 样本特征\n",
    "        y: array, 样本标签\n",
    "        \n",
    "        weight: array, 权重向量\n",
    "        \n",
    "        method: str, 选取错误样本的方式\n",
    "                cycle: 按输入样本顺序, 循环遍历找错误样本\n",
    "                random: 随机选取错误样本\n",
    "        \n",
    "        recycle: boolean, 当且仅当method=cycle时有用\n",
    "                 True, 每次从第一个样本, 寻找下一个错误样本\n",
    "                 False, 每次从上一次错误样本后面, 寻找下一个错误样本 \n",
    "        \"\"\"\n",
    "        \n",
    "        self.X = np.insert(X, 0, values=np.ones(len(X)), axis=1)\n",
    "        self.y = y\n",
    "                \n",
    "        self.weight = weight if weight else np.zeros(np.shape(self.X)[1])\n",
    "        self.method = method\n",
    "        self.re_cycle = recycle if recycle else False\n",
    "        \n",
    "        self.max_iterates = max_iterates\n",
    "        self.learning_rate = learning_rate\n",
    "        \n",
    "        self.debug = debug\n",
    "        \n",
    "        self.sample_size = len(self.X)\n",
    "        self.iterates = 1\n",
    "        self.error_index = -1\n",
    "        self.error_x = None\n",
    "        self.error_y = None        \n",
    "        \n",
    "    def train(self):\n",
    "        while(self.iterates < self.max_iterates):          \n",
    "            self.select_error_sample()\n",
    "            if self.error_index != -1:\n",
    "                self.update_weights()\n",
    "                self.update_print()\n",
    "                self.iterates += 1\n",
    "            else:\n",
    "                print('\\n训练成功, 迭代次数:{0}, 权重: {1}'.format(self.iterates - 1, self.weight))\n",
    "                break\n",
    "            \n",
    "        if self.iterates >= self.max_iterates:\n",
    "            print('\\n训练结束, 有限迭代次数内未找到合适的超平面:{0}, 权重: {1}'.format(self.iterates, self.weight))\n",
    "\n",
    "    def predict(self, x):\n",
    "        X = np.array(x)\n",
    "        \n",
    "        if X.ndim == 1:\n",
    "            X = np.insert(X, 0, 1)\n",
    "        else:\n",
    "            X = np.insert(X, 0, values=np.ones(len(X)), axis=1)\n",
    "        return np.sign(np.dot(X, self.weight))\n",
    "    \n",
    "    def calc_dist(self, index):\n",
    "        return np.dot(self.X[index], self.weight) * self.y[index]\n",
    "\n",
    "    def select_error_sample(self):\n",
    "        \n",
    "        if self.method == 'random':\n",
    "            self.select_error_sample_random()\n",
    "        elif self.method == 'cycle':\n",
    "            self.select_error_sample_cycle()\n",
    "        else:\n",
    "            self.select_error_sample_random()\n",
    "        \n",
    "        if self.error_index != -1:\n",
    "            self.error_x, self.error_y = self.X[self.error_index], self.y[self.error_index]\n",
    "        else:\n",
    "            self.error_x, self.error_y = None, None\n",
    "            \n",
    "        return self.error_index\n",
    "    \n",
    "    def select_error_sample_random(self):\n",
    "        sample_index_pool = [i for i in range(self.sample_size)]\n",
    "        self.error_index = -1\n",
    "        \n",
    "        for i in range(self.sample_size):\n",
    "            un_check_smaple_size = len(sample_index_pool)\n",
    "            sample_index = sample_index_pool[np.random.randint(un_check_smaple_size)]\n",
    "            \n",
    "            dist = self.calc_dist(sample_index)\n",
    "            \n",
    "            if dist < 0:\n",
    "                self.error_index = sample_index\n",
    "                break\n",
    "            else:\n",
    "                sample_index_pool.remove(sample_index)\n",
    "\n",
    "        return self.error_index\n",
    "    \n",
    "    def select_error_sample_cycle(self):\n",
    "        \n",
    "        sample_index =  -1 if self.re_cycle else self.error_index\n",
    "        self.error_index = -1\n",
    "        \n",
    "        for i in range(self.sample_size):\n",
    "            sample_index += 1\n",
    "            sample_index = sample_index % self.sample_size\n",
    "            \n",
    "            dist = self.calc_dist(sample_index)\n",
    "            \n",
    "            if dist < 0:\n",
    "                self.error_index = sample_index\n",
    "                break\n",
    "            else:\n",
    "                pass\n",
    "            \n",
    "        return self.error_index\n",
    "    \n",
    "    def update_weights(self):\n",
    "        self.weight += self.learning_rate * self.error_y * np.array(self.error_x) \n",
    "        \n",
    "    def update_print(self):\n",
    "        self.debug_print('\\n{0}\\n迭代: {1}'.format('-'*50, self.iterates))\n",
    "        self.debug_print('错误样本: X = {0}, y = {1}'.format(self.error_x, self.error_y))\n",
    "        self.debug_print('更新后权重: {0}'.format(self.weight))\n",
    "    \n",
    "    def debug_print(self, msg):\n",
    "        if self.debug:\n",
    "            print(msg)\n",
    "    "
   ]
  },
  {
   "cell_type": "markdown",
   "metadata": {},
   "source": [
    "## 单元测试"
   ]
  },
  {
   "cell_type": "code",
   "execution_count": 8,
   "metadata": {
    "scrolled": false
   },
   "outputs": [
    {
     "data": {
      "application/unittest.status+json": {
       "color": "yellow",
       "message": "",
       "previous": 0
      },
      "text/plain": []
     },
     "metadata": {},
     "output_type": "display_data"
    },
    {
     "name": "stdout",
     "output_type": "stream",
     "text": [
      "\n",
      "训练成功, 迭代次数:6, 权重: [ 2 -1  0]\n",
      "info, method: cycle\n",
      "\n",
      "训练成功, 迭代次数:6, 权重: [ 2 -1  0]\n",
      "================================================== \n",
      "\n",
      "info, method: random\n",
      "\n",
      "训练成功, 迭代次数:6, 权重: [ 2 -2  0]\n",
      "================================================== \n",
      "\n",
      "info, method: recycle\n",
      "\n",
      "训练成功, 迭代次数:6, 权重: [ 2 -1  0]\n",
      "================================================== \n",
      "\n"
     ]
    },
    {
     "data": {
      "application/unittest.status+json": {
       "color": "lightgreen",
       "message": ".......\n----------------------------------------------------------------------\nRan 7 tests in 0.008s\n\nOK\n",
       "previous": 0
      },
      "text/plain": [
       "Success"
      ]
     },
     "metadata": {},
     "output_type": "display_data"
    },
    {
     "name": "stdout",
     "output_type": "stream",
     "text": [
      ".......\n",
      "----------------------------------------------------------------------\n",
      "Ran 7 tests in 0.008s\n",
      "\n",
      "OK\n"
     ]
    },
    {
     "data": {
      "text/plain": [
       "<unittest.runner.TextTestResult run=7 errors=0 failures=0>"
      ]
     },
     "execution_count": 8,
     "metadata": {},
     "output_type": "execute_result"
    }
   ],
   "source": [
    "%%unittest_main\n",
    "class PlaTest(unittest.TestCase):\n",
    "    \n",
    "    def setUp(self):\n",
    "        self.X = [[1, 1], [3, 3], [4, 3]]\n",
    "        self.y = [1, -1, -1]\n",
    "        self.weight = [0, 1, 2]\n",
    "        \n",
    "    def calc_error_points_num(self, pla):\n",
    "        \n",
    "        dist = np.dot(pla.X, pla.weight) * pla.y\n",
    "        error_samples_index = np.argwhere(dist < 0).reshape(-1)\n",
    "        return len(error_samples_index)\n",
    "        \n",
    "    \n",
    "    def test_select_random(self):\n",
    "        \n",
    "        pla = Pla(self.X, self.y, weight=self.weight, method='random')\n",
    "        error_samples = [pla.select_error_sample() for i in range(10)]\n",
    "        sample_count = [error_samples.count(i) for i in range(3)]\n",
    "        \n",
    "        \n",
    "        self.assertEqual(sample_count[0], 0, '第0个节点, 作为错误节点的次数应该为0次')\n",
    "        self.assertGreater(sample_count[1], 0, '第0个节点, 作为错误节点的次数应该大于0次')\n",
    "        self.assertGreater(sample_count[2], 0, '第0个节点, 作为错误节点的次数应该大于0次')\n",
    "        \n",
    "    def test_select_cycle(self):\n",
    "        \n",
    "        pla = Pla(self.X, self.y, weight=self.weight, method='cycle')\n",
    "        error_samples = [pla.select_error_sample() for i in range(10)]      \n",
    "        \n",
    "        self.assertEqual(error_samples, [1, 2, 1, 2, 1, 2, 1, 2, 1, 2], '每次搜索在顺序在上一样本之后开始查找')\n",
    "    \n",
    "            \n",
    "    def test_select_recycle(self):\n",
    "        \n",
    "        pla = Pla(self.X, self.y, weight=self.weight, method='cycle', recycle=True)\n",
    "        error_samples = [pla.select_error_sample() for i in range(10)]      \n",
    "        \n",
    "        self.assertEqual(error_samples, [1, 1, 1, 1, 1, 1, 1, 1, 1, 1], '每次搜索从第0个样本开始查找')\n",
    "        \n",
    "        \n",
    "    def test_train_random(self):\n",
    "        \n",
    "        print('info, method: random')\n",
    "        pla = Pla(self.X, self.y, weight=self.weight, method='random', debug=False)\n",
    "        pla.train()\n",
    "        \n",
    "        self.assertEqual(self.calc_error_points_num(pla), 0, '成功分离, 错误点个数应该为0')\n",
    "        print('='*50, '\\n')\n",
    "        \n",
    "        \n",
    "    def test_train_recycle_random(self):\n",
    "        \n",
    "        print('info, method: recycle')\n",
    "        pla = Pla(self.X, self.y, weight=self.weight, method='cycle', recycle=True, debug=False)\n",
    "        pla.train()\n",
    "    \n",
    "        self.assertEqual(self.calc_error_points_num(pla), 0, '成功分离, 错误点个数应该为0')\n",
    "        print('='*50, '\\n')\n",
    "            \n",
    "    def test_train_cycle_random(self):\n",
    "        \n",
    "        print('info, method: cycle')\n",
    "        pla = Pla(self.X, self.y, weight=self.weight, method='cycle', recycle=False, debug=False)\n",
    "        pla.train()\n",
    "        \n",
    "        self.assertEqual(self.calc_error_points_num(pla), 0, '成功分离, 错误点个数应该为0')\n",
    "        print('='*50, '\\n')\n",
    "        \n",
    "        \n",
    "    def test_predict(self):\n",
    "        pla = Pla(self.X, self.y, weight=self.weight, method='cycle', recycle=False, debug=False)\n",
    "        pla.train()\n",
    "        \n",
    "        X = [5, 5]\n",
    "        y = pla.predict(X)\n",
    "        self.assertEqual(y, -1, '[5, 5]应该为负样本')\n",
    "        \n",
    "        X2 = [[-1, -1], [5, 5]]\n",
    "        y2 = pla.predict(X2)\n",
    "        self.assertEqual(y2.tolist(), [1, -1], '[[-1, -1], [5, 5]]应该分别为正、负样本')"
   ]
  },
  {
   "cell_type": "code",
   "execution_count": null,
   "metadata": {},
   "outputs": [],
   "source": []
  }
 ],
 "metadata": {
  "kernelspec": {
   "display_name": "Python 3",
   "language": "python",
   "name": "python3"
  },
  "language_info": {
   "codemirror_mode": {
    "name": "ipython",
    "version": 3
   },
   "file_extension": ".py",
   "mimetype": "text/x-python",
   "name": "python",
   "nbconvert_exporter": "python",
   "pygments_lexer": "ipython3",
   "version": "3.6.3"
  },
  "toc": {
   "nav_menu": {},
   "number_sections": true,
   "sideBar": true,
   "skip_h1_title": false,
   "title_cell": "Table of Contents",
   "title_sidebar": "Contents",
   "toc_cell": false,
   "toc_position": {},
   "toc_section_display": true,
   "toc_window_display": true
  }
 },
 "nbformat": 4,
 "nbformat_minor": 2
}

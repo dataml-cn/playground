{
 "cells": [
  {
   "cell_type": "markdown",
   "metadata": {},
   "source": [
    "<br>\n",
    "<font size='12px'>\n",
    "AdaBoost Example\n",
    "</font>\n",
    "<br>\n",
    "\n",
    "[©2020 AI在弦上](https://www.dataml.cn)"
   ]
  },
  {
   "cell_type": "markdown",
   "metadata": {},
   "source": [
    "# 概要"
   ]
  },
  {
   "cell_type": "markdown",
   "metadata": {},
   "source": [
    "1. AdaBoost 基本思想\n",
    "   - 3个臭皮匠定个诸葛亮\n",
    "   - 2分类问题, 通过调整训练数据的权重, 学习多个弱分类器, 最终将多个分类器进行线性组合, 提高分类性能\n",
    "   - 从additive model 的角度看\n",
    "       - 损失函数, 采用指数形式的损失函数 $L(y, f(x)) = \\exp(-yf(x))$\n",
    "       - 前向分布算法, 加模型本身而言, 各基模型并无先后顺序, 但求解复杂度高. 通过前向分布算法求解, 不一定是最优解, 但降低了求解难度\n",
    "   \n",
    "2. AdaBoost 实现步骤\n",
    "   1. 初始化权重\n",
    "   2. 确定当前权重下, 最佳基模型\n",
    "     - 遍历不同切分点, 计算权重样本下的误差, 最初最佳切分点, 识别预测错误样本\n",
    "     - 计算线性加模型的系数\n",
    "     - 计算更新权重, 错误样本的权重增加, 正确样本的权重减小\n",
    "   3. 最终模型的线性组合"
   ]
  },
  {
   "cell_type": "markdown",
   "metadata": {},
   "source": [
    "## 时间成本\n",
    "- 阅读 10 分钟\n",
    "- 实践 30 分钟"
   ]
  },
  {
   "cell_type": "markdown",
   "metadata": {},
   "source": [
    "## 参考\n",
    "\n",
    "1. 统计学习方法, 李航, 第8章 提升方法, p137\n"
   ]
  },
  {
   "cell_type": "markdown",
   "metadata": {},
   "source": [
    "# 目标"
   ]
  },
  {
   "cell_type": "markdown",
   "metadata": {},
   "source": [
    "我们的目标通过构造过多个弱分类器(决策树桩)， 就能对训练数据完全分类\n",
    "\n",
    "弱分类器的基本形式, 其中$c$是待确定参数\n",
    "$$\n",
    "\\begin{equation}\n",
    "g(x, c) = \\left\\{\n",
    "\\begin{aligned}\n",
    "1, & x < c\\\\\n",
    "-1, & x > c\n",
    "\\end{aligned}\n",
    "\\right.\n",
    "\\end{equation}\n",
    "$$\n",
    "\n",
    "最终模型的基本形式\n",
    "\n",
    "$$\n",
    "G(x) = \\displaystyle sign(\\sum_{m=1}^M{\\alpha_m g_m(x, c_m)})\n",
    "$$"
   ]
  },
  {
   "cell_type": "markdown",
   "metadata": {},
   "source": [
    "# 环境"
   ]
  },
  {
   "cell_type": "code",
   "execution_count": 1,
   "metadata": {},
   "outputs": [],
   "source": [
    "import numpy as np"
   ]
  },
  {
   "cell_type": "code",
   "execution_count": 2,
   "metadata": {},
   "outputs": [],
   "source": [
    "%matplotlib inline\n",
    "from matplotlib import pyplot as plt"
   ]
  },
  {
   "cell_type": "markdown",
   "metadata": {},
   "source": [
    "# 实现"
   ]
  },
  {
   "cell_type": "markdown",
   "metadata": {},
   "source": [
    "## 数据"
   ]
  },
  {
   "cell_type": "markdown",
   "metadata": {},
   "source": [
    "| 序号 | 1 | 2 | 3 | 4 | 5 | 6 | 7 | 8 | 9 | 10 |\n",
    "| --- | --- | --- | --- | --- | --- | --- | --- | --- | --- | --- |\n",
    "| x | 0 | 1 | 2 | 3 | 4 | 5 | 6 | 7 | 8 | 9 |\n",
    "| y | 1 | 1 | 1 | -1 | -1 | -1 | 1 | 1 | 1 | -1 |"
   ]
  },
  {
   "cell_type": "code",
   "execution_count": 3,
   "metadata": {},
   "outputs": [],
   "source": [
    "x = np.array([0, 1, 2, 3, 4, 5, 6, 7, 8, 9])\n",
    "y = np.array([1, 1, 1, -1, -1, -1, 1, 1, 1, -1])"
   ]
  },
  {
   "cell_type": "markdown",
   "metadata": {},
   "source": [
    "## 方法"
   ]
  },
  {
   "cell_type": "markdown",
   "metadata": {},
   "source": [
    "### 基模型\n",
    "\n",
    "这里使用2叉树作为基模型, 其一般形式, 定义如下"
   ]
  },
  {
   "cell_type": "code",
   "execution_count": 4,
   "metadata": {},
   "outputs": [],
   "source": [
    "def decision_stump(x, c, l=1):\n",
    "    \n",
    "    \"\"\"\n",
    "    默认, 左侧节点为+1, 右侧节点为-1\n",
    "    \n",
    "    Parameters\n",
    "    ==========\n",
    "    x, 输入\n",
    "    c, 树桩切分点\n",
    "    l, 左侧节点样本类型\n",
    "       +1: 正样本\n",
    "       -1: 负样本\n",
    "       \n",
    "    Return\n",
    "    ======\n",
    "    分类结果\n",
    "    \n",
    "    \"\"\"\n",
    " \n",
    "    return l * np.sign(c - x)"
   ]
  },
  {
   "cell_type": "code",
   "execution_count": 5,
   "metadata": {},
   "outputs": [
    {
     "data": {
      "text/plain": [
       "array([ 1., -1., -1., -1., -1., -1., -1., -1., -1., -1.])"
      ]
     },
     "execution_count": 5,
     "metadata": {},
     "output_type": "execute_result"
    }
   ],
   "source": [
    "decision_stump(x, 0.5)"
   ]
  },
  {
   "cell_type": "markdown",
   "metadata": {},
   "source": [
    "### 切分点"
   ]
  },
  {
   "cell_type": "code",
   "execution_count": 6,
   "metadata": {},
   "outputs": [],
   "source": [
    "def gen_cut_points(x):\n",
    "        \n",
    "    \"\"\"\n",
    "    生成切分点\n",
    "    \n",
    "    Parameters\n",
    "    ==========\n",
    "    x, 训练样本输入\n",
    "       \n",
    "    Return\n",
    "    ======\n",
    "    相邻输入样本的中间点列表\n",
    "    \n",
    "    \"\"\"\n",
    "    \n",
    "    points = np.unique(x)\n",
    "    return (points[:-1] + points[1:]) / 2"
   ]
  },
  {
   "cell_type": "code",
   "execution_count": 7,
   "metadata": {},
   "outputs": [
    {
     "data": {
      "text/plain": [
       "array([0.5, 1.5, 2.5, 3.5, 4.5, 5.5, 6.5, 7.5, 8.5])"
      ]
     },
     "execution_count": 7,
     "metadata": {},
     "output_type": "execute_result"
    }
   ],
   "source": [
    "gen_cut_points(x)"
   ]
  },
  {
   "cell_type": "markdown",
   "metadata": {},
   "source": [
    "### 加权误差函数"
   ]
  },
  {
   "cell_type": "code",
   "execution_count": 8,
   "metadata": {},
   "outputs": [],
   "source": [
    "def calc_error(x, y, weights, m):\n",
    "    \n",
    "    \"\"\"\n",
    "    计算加权数据集错误率\n",
    "    \n",
    "    Parameters\n",
    "    ==========\n",
    "    x, 训练样本输入\n",
    "    y, 训练样本标签\n",
    "    weights, 样本的权重\n",
    "    m, 2分类基模型\n",
    "    \n",
    "    Return\n",
    "    ======    \n",
    "    error, 加权数据集上的错误率\n",
    "    error_points, 判别结果, 1: 分类正确, -1: 分类错误\n",
    "    \n",
    "    \"\"\"\n",
    "    \n",
    "    predict = m(x)\n",
    "    error_points = predict * y\n",
    "    error_points_modify = -np.clip(predict * y, -1, 0)\n",
    "    \n",
    "    error = np.dot(error_points_modify, weights)\n",
    "    return error, error_points"
   ]
  },
  {
   "cell_type": "markdown",
   "metadata": {},
   "source": [
    "### 初始化样本权重"
   ]
  },
  {
   "cell_type": "code",
   "execution_count": 9,
   "metadata": {},
   "outputs": [],
   "source": [
    "def init_weights(x):\n",
    "    n = len(x)\n",
    "    return  np.full(n, 1/n)"
   ]
  },
  {
   "cell_type": "code",
   "execution_count": 10,
   "metadata": {},
   "outputs": [
    {
     "data": {
      "text/plain": [
       "(0.30000000000000004,\n",
       " array([ 1.,  1.,  1.,  1.,  1.,  1., -1., -1., -1.,  1.]))"
      ]
     },
     "execution_count": 10,
     "metadata": {},
     "output_type": "execute_result"
    }
   ],
   "source": [
    "weights = init_weights(x)\n",
    "c = 2.5\n",
    "calc_error(x, y, weights, lambda x: decision_stump(x, c))"
   ]
  },
  {
   "cell_type": "markdown",
   "metadata": {},
   "source": [
    "### 最小误差树桩"
   ]
  },
  {
   "cell_type": "code",
   "execution_count": 11,
   "metadata": {},
   "outputs": [],
   "source": [
    "def find_decision_stump(x, y, weights=None, cut_points=None):\n",
    "    \n",
    "    \"\"\"\n",
    "    加权样本集上, 寻找最小误差率对应的树桩, 即对应的切分点及左侧分支的正负样本类型\n",
    "    \n",
    "    Parameters\n",
    "    ==========\n",
    "    x, 训练样本输入\n",
    "    y, 训练样本标签\n",
    "    weights, 样本的权重\n",
    "    cut_points, 2分类基模型\n",
    "    \n",
    "    Return\n",
    "    ======    \n",
    "    error, 加权数据集上的错误率\n",
    "    error_points, 判别结果, 1: 分类正确, -1: 分类错误\n",
    "    \n",
    "    \"\"\"\n",
    "        \n",
    "    cut_points = gen_cut_points(x) if cut_points is None else cut_points\n",
    "    weights = init_weights(x) if weights is None else weights\n",
    "    \n",
    "    left_cls = [1, -1]\n",
    "    cut_points_cls = np.transpose([np.tile(cut_points, len(left_cls)), np.repeat(left_cls, len(cut_points))])\n",
    "    \n",
    "    error_info = [calc_error(x, y, weights, lambda x: decision_stump(x, c[0], c[1])) for c in cut_points_cls]\n",
    "    errors = np.array([e[0] for e in error_info])\n",
    "    error_points_array = np.array([e[1] for e in error_info])\n",
    "    \n",
    "    min_index = np.argmin(errors)\n",
    "    error, error_points, cut_point_sign = errors[min_index], error_points_array[min_index], cut_points_cls[min_index]\n",
    "    cut_point, left = cut_point_sign\n",
    "    \n",
    "    return cut_point, left, error, error_points, lambda x: decision_stump(x, cut_point, l=left)"
   ]
  },
  {
   "cell_type": "code",
   "execution_count": 12,
   "metadata": {},
   "outputs": [
    {
     "data": {
      "text/plain": [
       "(2.5,\n",
       " 1.0,\n",
       " 0.30000000000000004,\n",
       " array([ 1.,  1.,  1.,  1.,  1.,  1., -1., -1., -1.,  1.]),\n",
       " <function __main__.find_decision_stump.<locals>.<lambda>>)"
      ]
     },
     "execution_count": 12,
     "metadata": {},
     "output_type": "execute_result"
    }
   ],
   "source": [
    "cut_point, left, error, error_points, m = find_decision_stump(x, y)\n",
    "cut_point, left, error, error_points, m"
   ]
  },
  {
   "cell_type": "markdown",
   "metadata": {},
   "source": [
    "### 组合模型权重系数计算"
   ]
  },
  {
   "cell_type": "code",
   "execution_count": 13,
   "metadata": {},
   "outputs": [],
   "source": [
    "def calc_alpha(error):\n",
    "    return (1/2) * np.log((1 - error) / error)"
   ]
  },
  {
   "cell_type": "code",
   "execution_count": 14,
   "metadata": {},
   "outputs": [
    {
     "data": {
      "text/plain": [
       "[<matplotlib.lines.Line2D at 0x7fc474b75cc0>]"
      ]
     },
     "execution_count": 14,
     "metadata": {},
     "output_type": "execute_result"
    },
    {
     "name": "stderr",
     "output_type": "stream",
     "text": [
      "/opt/conda/lib/python3.6/site-packages/matplotlib/font_manager.py:1297: UserWarning: findfont: Font family ['WenQuanYi Micro Hei Mono'] not found. Falling back to DejaVu Sans\n",
      "  (prop.get_family(), self.defaultFamily[fontext]))\n"
     ]
    },
    {
     "data": {
      "image/png": "[encoded data removed]",
      "text/plain": [
       "<matplotlib.figure.Figure at 0x7fc476bcf5f8>"
      ]
     },
     "metadata": {},
     "output_type": "display_data"
    }
   ],
   "source": [
    "errors = np.linspace(0.01, 0.99, num=50)\n",
    "alphas = calc_alpha(errors)\n",
    "plt.plot(errors, alphas)"
   ]
  },
  {
   "cell_type": "markdown",
   "metadata": {},
   "source": [
    "### 权重系数更新"
   ]
  },
  {
   "cell_type": "code",
   "execution_count": 15,
   "metadata": {},
   "outputs": [],
   "source": [
    "def update_weight(weights, error, error_points, alpha=None):\n",
    "    alpha = alpha or calc_alpha(error) \n",
    "    adjust_ratio = np.exp(-alpha * error_points)\n",
    "    z = np.dot(weights, adjust_ratio)\n",
    "    return (weights * adjust_ratio) / z\n"
   ]
  },
  {
   "cell_type": "code",
   "execution_count": 16,
   "metadata": {},
   "outputs": [
    {
     "data": {
      "text/plain": [
       "array([0.07142857, 0.07142857, 0.07142857, 0.07142857, 0.07142857,\n",
       "       0.07142857, 0.16666667, 0.16666667, 0.16666667, 0.07142857])"
      ]
     },
     "execution_count": 16,
     "metadata": {},
     "output_type": "execute_result"
    }
   ],
   "source": [
    "update_weight(weights, error, error_points)"
   ]
  },
  {
   "cell_type": "markdown",
   "metadata": {},
   "source": [
    "### 模型融合"
   ]
  },
  {
   "cell_type": "code",
   "execution_count": 17,
   "metadata": {},
   "outputs": [],
   "source": [
    "def gen_additive_model(alphas, models):\n",
    "    return lambda x: np.sign(np.dot(alphas, [m(x) for m in models]))"
   ]
  },
  {
   "cell_type": "markdown",
   "metadata": {},
   "source": [
    "### 训练模型"
   ]
  },
  {
   "cell_type": "code",
   "execution_count": 18,
   "metadata": {},
   "outputs": [],
   "source": [
    "def adaboost(x, y, M=10, max_error=0):\n",
    "    raw_weights = init_weights(x)\n",
    "    weights = init_weights(x)\n",
    "    cut_points = gen_cut_points(x)\n",
    "    alphas = list()\n",
    "    models = list()\n",
    "    for m in range(M):\n",
    "        cut_point, left, error, error_points,  weak_clf = find_decision_stump(x, y, weights=weights, cut_points=cut_points)\n",
    "        alpha = calc_alpha(error)\n",
    "        alphas.append(alpha)\n",
    "        models.append(weak_clf)\n",
    "        model = gen_additive_model(alphas, models)\n",
    "        additive_error, _ = calc_error(x, y, raw_weights, model)\n",
    "        weights = update_weight(weights, error, error_points)\n",
    "        print('\\niterator: ', m + 1)\n",
    "        print('additive error:', additive_error)  \n",
    "        print('cut point: ', cut_point)\n",
    "        print('left cls: ', left)\n",
    "        print('error points: ', error_points)\n",
    "        print('alpha:', alpha)  \n",
    "        print('update weights:', weights)\n",
    "        if additive_error <= max_error:\n",
    "            print('find the target model')\n",
    "            break\n",
    "    return model\n"
   ]
  },
  {
   "cell_type": "code",
   "execution_count": 19,
   "metadata": {},
   "outputs": [
    {
     "name": "stdout",
     "output_type": "stream",
     "text": [
      "\n",
      "iterator:  1\n",
      "additive error: 0.30000000000000004\n",
      "cut point:  2.5\n",
      "left cls:  1.0\n",
      "error points:  [ 1.  1.  1.  1.  1.  1. -1. -1. -1.  1.]\n",
      "alpha: 0.4236489301936017\n",
      "update weights: [0.07142857 0.07142857 0.07142857 0.07142857 0.07142857 0.07142857\n",
      " 0.16666667 0.16666667 0.16666667 0.07142857]\n",
      "\n",
      "iterator:  2\n",
      "additive error: 0.30000000000000004\n",
      "cut point:  8.5\n",
      "left cls:  1.0\n",
      "error points:  [ 1.  1.  1. -1. -1. -1.  1.  1.  1.  1.]\n",
      "alpha: 0.6496414920651301\n",
      "update weights: [0.04545455 0.04545455 0.04545455 0.16666667 0.16666667 0.16666667\n",
      " 0.10606061 0.10606061 0.10606061 0.04545455]\n",
      "\n",
      "iterator:  3\n",
      "additive error: 0.0\n",
      "cut point:  5.5\n",
      "left cls:  -1.0\n",
      "error points:  [-1. -1. -1.  1.  1.  1.  1.  1.  1. -1.]\n",
      "alpha: 0.7520386983881369\n",
      "update weights: [0.125      0.125      0.125      0.10185185 0.10185185 0.10185185\n",
      " 0.06481481 0.06481481 0.06481481 0.125     ]\n",
      "find the target model\n"
     ]
    }
   ],
   "source": [
    "model = adaboost(x, y)"
   ]
  }
 ],
 "metadata": {
  "kernelspec": {
   "display_name": "Python 3",
   "language": "python",
   "name": "python3"
  },
  "language_info": {
   "codemirror_mode": {
    "name": "ipython",
    "version": 3
   },
   "file_extension": ".py",
   "mimetype": "text/x-python",
   "name": "python",
   "nbconvert_exporter": "python",
   "pygments_lexer": "ipython3",
   "version": "3.6.3"
  },
  "toc": {
   "nav_menu": {},
   "number_sections": true,
   "sideBar": true,
   "skip_h1_title": false,
   "title_cell": "Table of Contents",
   "title_sidebar": "Contents",
   "toc_cell": false,
   "toc_position": {},
   "toc_section_display": true,
   "toc_window_display": false
  }
 },
 "nbformat": 4,
 "nbformat_minor": 2
}

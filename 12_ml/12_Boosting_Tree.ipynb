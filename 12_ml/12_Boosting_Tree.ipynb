{
 "cells": [
  {
   "cell_type": "markdown",
   "metadata": {},
   "source": [
    "<br>\n",
    "<font size='12px'>\n",
    "Boosting Tree\n",
    "</font>\n",
    "<br>\n",
    "\n",
    "[©2020 AI在弦上](https://www.dataml.cn)"
   ]
  },
  {
   "cell_type": "markdown",
   "metadata": {},
   "source": [
    "# 概要"
   ]
  },
  {
   "cell_type": "markdown",
   "metadata": {},
   "source": [
    "1. Boosting Tree 基本思想\n",
    "   - 加模型, 基模型的线性组合\n",
    "   - 基模型, 决策树\n",
    "       - 分类问题, 2叉分类树\n",
    "       - 回归问题, 2叉回归树\n",
    "\n",
    "2. 回归 Boosting Tree 实现步骤\n",
    "   1. 初始化残差\n",
    "   2. 确定当前残差下, 最佳基模型\n",
    "     - 遍历不同切分点,  确定对应的叶子节点取值\n",
    "     - 计算残差, 平方误差\n",
    "     - 确定最佳切分点, 及相应残差、平方和误差\n",
    "\n",
    "   3. 最终模型的线性组合\n",
    "   \n",
    "注:\n",
    "\n",
    "- 提升树被认为是**统计学习**中性能**最好**的方法之一\n",
    "- 决策树桩(decision stump), 由一个根节点直接连接两个叶节点的简单决策树"
   ]
  },
  {
   "cell_type": "markdown",
   "metadata": {},
   "source": [
    "## 时间成本\n",
    "- 阅读 10 分钟\n",
    "- 实践 30 分钟"
   ]
  },
  {
   "cell_type": "markdown",
   "metadata": {},
   "source": [
    "## 参考\n",
    "\n",
    "1. 统计学习方法, 李航, 第8章 提升方法, p137\n"
   ]
  },
  {
   "cell_type": "markdown",
   "metadata": {},
   "source": [
    "# 目标"
   ]
  },
  {
   "cell_type": "markdown",
   "metadata": {},
   "source": [
    "我们的目标通过构造过多个弱决策树桩， 就能对训练数据进行预测, 使其预测误差控制在一定范围内\n",
    "\n",
    "模型的一般形式, 如下:\n",
    "\n",
    "$$\n",
    "f_M(x) = \\displaystyle\\sum_{m=1}^M{T(x, \\Theta_m)}\n",
    "$$"
   ]
  },
  {
   "cell_type": "markdown",
   "metadata": {},
   "source": [
    "# 实现"
   ]
  },
  {
   "cell_type": "markdown",
   "metadata": {},
   "source": [
    "## 环境"
   ]
  },
  {
   "cell_type": "code",
   "execution_count": 1,
   "metadata": {},
   "outputs": [],
   "source": [
    "import numpy as np"
   ]
  },
  {
   "cell_type": "markdown",
   "metadata": {},
   "source": [
    "## 数据"
   ]
  },
  {
   "cell_type": "markdown",
   "metadata": {},
   "source": [
    "| 序号 | 1 | 2 | 3 | 4 | 5 | 6 | 7 | 8 | 9 | 10 |\n",
    "| --- | --- | --- | --- | --- | --- | --- | --- | --- | --- | --- |\n",
    "| x | 1 | 2 | 3 | 4 | 5 | 6 | 7 | 8 | 9 | 10 |\n",
    "| y | 5.56 | 5.70 | 5.91 | 6.40 | 6.80 | 7.05 | 8.90 | 8.70 | 9.00 | 9.05 |"
   ]
  },
  {
   "cell_type": "code",
   "execution_count": 2,
   "metadata": {},
   "outputs": [],
   "source": [
    "x = np.array([1, 2, 3, 4, 5, 6, 7, 8, 9, 10])\n",
    "y = np.array([5.56, 5.70, 5.91, 6.40, 6.80, 7.05, 8.90, 8.70, 9.00, 9.05])"
   ]
  },
  {
   "cell_type": "markdown",
   "metadata": {},
   "source": [
    "## 方法"
   ]
  },
  {
   "cell_type": "markdown",
   "metadata": {},
   "source": [
    "### 基模型\n",
    "\n",
    "这里使用2叉树作为基模型, 其一般形式, 定义如下"
   ]
  },
  {
   "cell_type": "code",
   "execution_count": 3,
   "metadata": {},
   "outputs": [],
   "source": [
    "def decision_stump(x, s, c1, c2):\n",
    "    \n",
    "    \"\"\"\n",
    "    切分点左侧值为c1, 右侧为c2\n",
    "    \n",
    "    Parameters\n",
    "    ==========\n",
    "    x, 输入\n",
    "    s, 树桩切分点\n",
    "    c1, 左侧节点取值\n",
    "    c2, 右侧切点取值\n",
    "       \n",
    "    Return\n",
    "    ======\n",
    "    返回对应叶子节点取值\n",
    "    \n",
    "    \"\"\"\n",
    " \n",
    "    return np.where(x < s, c1, c2)"
   ]
  },
  {
   "cell_type": "code",
   "execution_count": 4,
   "metadata": {},
   "outputs": [
    {
     "data": {
      "text/plain": [
       "array([1, 1, 3, 3, 3, 3, 3, 3, 3, 3])"
      ]
     },
     "execution_count": 4,
     "metadata": {},
     "output_type": "execute_result"
    }
   ],
   "source": [
    "decision_stump(x, 2.5, 1, 3)"
   ]
  },
  {
   "cell_type": "markdown",
   "metadata": {},
   "source": [
    "### 切分点"
   ]
  },
  {
   "cell_type": "code",
   "execution_count": 5,
   "metadata": {},
   "outputs": [],
   "source": [
    "def gen_cut_points(x):\n",
    "        \n",
    "    \"\"\"\n",
    "    生成切分点\n",
    "    \n",
    "    Parameters\n",
    "    ==========\n",
    "    x, 训练样本输入\n",
    "       \n",
    "    Return\n",
    "    ======\n",
    "    相邻输入样本的中间点列表\n",
    "    \n",
    "    \"\"\"\n",
    "    \n",
    "    points = np.unique(x)\n",
    "    return (points[:-1] + points[1:]) / 2"
   ]
  },
  {
   "cell_type": "code",
   "execution_count": 6,
   "metadata": {},
   "outputs": [
    {
     "data": {
      "text/plain": [
       "array([1.5, 2.5, 3.5, 4.5, 5.5, 6.5, 7.5, 8.5, 9.5])"
      ]
     },
     "execution_count": 6,
     "metadata": {},
     "output_type": "execute_result"
    }
   ],
   "source": [
    "gen_cut_points(x)"
   ]
  },
  {
   "cell_type": "markdown",
   "metadata": {},
   "source": [
    "### 平方和误差函数"
   ]
  },
  {
   "cell_type": "code",
   "execution_count": 7,
   "metadata": {},
   "outputs": [],
   "source": [
    "def calc_sse(x, y, m):\n",
    "    \n",
    "    \"\"\"\n",
    "    计算加权数据集错误率\n",
    "    \n",
    "    Parameters\n",
    "    ==========\n",
    "    x, 训练样本输入\n",
    "    y, 训练样本标签\n",
    "    m, 回归基模型\n",
    "    \n",
    "    Return\n",
    "    ======    \n",
    "    sse, 平方和误差(sum square error)\n",
    "    residual, 残差\n",
    "    \n",
    "    \"\"\"\n",
    "    \n",
    "    residual = y - m(x)\n",
    "    sse = np.sum(residual ** 2)\n",
    "\n",
    "    return sse, residual"
   ]
  },
  {
   "cell_type": "markdown",
   "metadata": {},
   "source": [
    "### 最佳叶子节点取值"
   ]
  },
  {
   "cell_type": "code",
   "execution_count": 8,
   "metadata": {},
   "outputs": [],
   "source": [
    "def calc_best_leaf_value(x, y, s):\n",
    "    return np.mean(y[x < s]), np.mean(y[x > s])"
   ]
  },
  {
   "cell_type": "code",
   "execution_count": 9,
   "metadata": {},
   "outputs": [
    {
     "data": {
      "text/plain": [
       "(5.63, 7.72625)"
      ]
     },
     "execution_count": 9,
     "metadata": {},
     "output_type": "execute_result"
    }
   ],
   "source": [
    "calc_best_leaf_value(x, y, 2.5)"
   ]
  },
  {
   "cell_type": "markdown",
   "metadata": {},
   "source": [
    "### 生成树桩函数"
   ]
  },
  {
   "cell_type": "code",
   "execution_count": 10,
   "metadata": {},
   "outputs": [],
   "source": [
    "def gen_decision_stump(x, y, s):\n",
    "    c1, c2 = calc_best_leaf_value(x, y, s)\n",
    "    return lambda x: decision_stump(x, s, c1, c2)"
   ]
  },
  {
   "cell_type": "markdown",
   "metadata": {},
   "source": [
    "### 最小误差树桩"
   ]
  },
  {
   "cell_type": "code",
   "execution_count": 11,
   "metadata": {},
   "outputs": [],
   "source": [
    "def find_decision_stump(x, y, cut_points=None):\n",
    "    \n",
    "    \"\"\"\n",
    "    给定残差, 寻找最小平方和误差对应的树桩, 即对应的切分点及左、右叶子节点取值\n",
    "    \n",
    "    Parameters\n",
    "    ==========\n",
    "    x, 训练样本输入\n",
    "    y, 训练样本标签\n",
    "    cut_points, 切分点\n",
    "    \n",
    "    Return\n",
    "    ======    \n",
    "    cut_point, 切分点\n",
    "    sse, 平方和误差\n",
    "    residual, 残差\n",
    "    basic_model, 函数\n",
    "    \n",
    "    \"\"\"\n",
    "        \n",
    "    cut_points = gen_cut_points(x) if cut_points is None else cut_points\n",
    "        \n",
    "    error_info = [calc_sse(x, y, gen_decision_stump(x, y, c)) for c in cut_points]\n",
    "    errors = np.array([e[0] for e in error_info])\n",
    "    residuals = np.array([e[1] for e in error_info])\n",
    "    \n",
    "    min_index = np.argmin(errors)\n",
    "    cut_point, sse, residual = cut_points[min_index], errors[min_index], residuals[min_index]\n",
    "    \n",
    "    return cut_point, sse, residual, gen_decision_stump(x, y, cut_point)"
   ]
  },
  {
   "cell_type": "code",
   "execution_count": 12,
   "metadata": {},
   "outputs": [
    {
     "data": {
      "text/plain": [
       "(6.5,\n",
       " 1.9300083333333335,\n",
       " array([-0.67666667, -0.53666667, -0.32666667,  0.16333333,  0.56333333,\n",
       "         0.81333333, -0.0125    , -0.2125    ,  0.0875    ,  0.1375    ]),\n",
       " <function __main__.gen_decision_stump.<locals>.<lambda>>)"
      ]
     },
     "execution_count": 12,
     "metadata": {},
     "output_type": "execute_result"
    }
   ],
   "source": [
    "cut_point, sse, residual, m = find_decision_stump(x, y)\n",
    "cut_point, sse, residual, m"
   ]
  },
  {
   "cell_type": "markdown",
   "metadata": {},
   "source": [
    "### 模型融合"
   ]
  },
  {
   "cell_type": "code",
   "execution_count": 13,
   "metadata": {},
   "outputs": [],
   "source": [
    "def gen_additive_model(models):\n",
    "    return lambda x: np.sum([m(x) for m in models], axis=0)"
   ]
  },
  {
   "cell_type": "markdown",
   "metadata": {},
   "source": [
    "### 训练模型"
   ]
  },
  {
   "cell_type": "code",
   "execution_count": 14,
   "metadata": {},
   "outputs": [],
   "source": [
    "def boosting_tree(x, y, M=10, max_sse=0):\n",
    "  \n",
    "    cut_points = gen_cut_points(x)\n",
    "    residual = np.copy(y)\n",
    "    \n",
    "    models = list()\n",
    "    \n",
    "    for m in range(M):\n",
    "        \n",
    "        cut_point, sse, residual, tree = find_decision_stump(x, residual, cut_points=cut_points)\n",
    "        models.append(tree)\n",
    "        \n",
    "        print('\\niterator: ', m + 1) \n",
    "        print('cut point: ', cut_point)\n",
    "        print('sse: ', sse)\n",
    "        print('residual: ', residual)\n",
    "\n",
    "        if sse <= max_sse:\n",
    "            print('find the target model')\n",
    "            break\n",
    "            \n",
    "    model = gen_additive_model(models)\n",
    "    return model\n"
   ]
  },
  {
   "cell_type": "code",
   "execution_count": 15,
   "metadata": {},
   "outputs": [
    {
     "name": "stdout",
     "output_type": "stream",
     "text": [
      "\n",
      "iterator:  1\n",
      "cut point:  6.5\n",
      "sse:  1.9300083333333335\n",
      "residual:  [-0.67666667 -0.53666667 -0.32666667  0.16333333  0.56333333  0.81333333\n",
      " -0.0125     -0.2125      0.0875      0.1375    ]\n",
      "\n",
      "iterator:  2\n",
      "cut point:  3.5\n",
      "sse:  0.8006750000000017\n",
      "residual:  [-0.16333333 -0.02333333  0.18666667 -0.05666667  0.34333333  0.59333333\n",
      " -0.2325     -0.4325     -0.1325     -0.0825    ]\n",
      "\n",
      "iterator:  3\n",
      "cut point:  6.5\n",
      "sse:  0.478008333333334\n",
      "residual:  [-0.31       -0.17        0.04       -0.20333333  0.19666667  0.44666667\n",
      " -0.0125     -0.2125      0.0875      0.1375    ]\n",
      "\n",
      "iterator:  4\n",
      "cut point:  4.5\n",
      "sse:  0.3055592592592598\n",
      "residual:  [-0.14916667 -0.00916667  0.20083333 -0.0425      0.08944444  0.33944444\n",
      " -0.11972222 -0.31972222 -0.01972222  0.03027778]\n",
      "\n",
      "iterator:  5\n",
      "cut point:  6.5\n",
      "sse:  0.22891522633744912\n",
      "residual:  [-0.22064815 -0.08064815  0.12935185 -0.11398148  0.01796296  0.26796296\n",
      " -0.0125     -0.2125      0.0875      0.1375    ]\n",
      "\n",
      "iterator:  6\n",
      "cut point:  2.5\n",
      "sse:  0.17217806498628296\n",
      "residual:  [-0.07        0.07        0.09168981 -0.15164352 -0.01969907  0.23030093\n",
      " -0.05016204 -0.25016204  0.04983796  0.09983796]\n",
      "find the target model\n"
     ]
    }
   ],
   "source": [
    "model = boosting_tree(x, y, max_sse=0.2)"
   ]
  },
  {
   "cell_type": "code",
   "execution_count": 16,
   "metadata": {},
   "outputs": [
    {
     "data": {
      "text/plain": [
       "array([5.63      , 5.63      , 5.81831019, 6.55164352, 6.81969907,\n",
       "       6.81969907, 8.95016204, 8.95016204, 8.95016204, 8.95016204])"
      ]
     },
     "execution_count": 16,
     "metadata": {},
     "output_type": "execute_result"
    }
   ],
   "source": [
    "model(x)"
   ]
  }
 ],
 "metadata": {
  "kernelspec": {
   "display_name": "Python 3",
   "language": "python",
   "name": "python3"
  },
  "language_info": {
   "codemirror_mode": {
    "name": "ipython",
    "version": 3
   },
   "file_extension": ".py",
   "mimetype": "text/x-python",
   "name": "python",
   "nbconvert_exporter": "python",
   "pygments_lexer": "ipython3",
   "version": "3.6.3"
  },
  "toc": {
   "nav_menu": {},
   "number_sections": true,
   "sideBar": true,
   "skip_h1_title": false,
   "title_cell": "Table of Contents",
   "title_sidebar": "Contents",
   "toc_cell": false,
   "toc_position": {},
   "toc_section_display": true,
   "toc_window_display": false
  }
 },
 "nbformat": 4,
 "nbformat_minor": 2
}
